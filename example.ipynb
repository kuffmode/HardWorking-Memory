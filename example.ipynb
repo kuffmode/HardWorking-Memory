{
 "cells": [
  {
   "cell_type": "markdown",
   "metadata": {},
   "source": [
    "The idea of this task comes from the melody discrimination task that is used in the following paper:\n",
    "\n",
    "https://www.sciencedirect.com/science/article/pii/S105381191300178X?via%3Dihub\n",
    "\n",
    "Briefly, there are two signal classes:\n",
    "1. The signal, here comprises of N sinosoidals of different frequencies.\n",
    "2. The cue, a step function to specify when the network should produce the response.\n",
    "\n",
    "After presenting the stimulus (first combination of signals) there will be a silence period in which the network should keep track of the signal (recall condition) or perform a transformation (working memory). After the pause a second signal will be presented and the network should decide if it is the same as the first or not (recall condition) or transformed properly (working memory). This example mirrors the second signal. There's a lot left to do!"
   ]
  },
  {
   "cell_type": "code",
   "execution_count": 1,
   "metadata": {},
   "outputs": [],
   "source": [
    "import numpy as np\n",
    "import matplotlib.pyplot as plt\n",
    "%matplotlib inline\n",
    "from utils import *\n"
   ]
  },
  {
   "cell_type": "code",
   "execution_count": 2,
   "metadata": {},
   "outputs": [
    {
     "name": "stdout",
     "output_type": "stream",
     "text": [
      "(3, 4)\n",
      "(3, 1)\n"
     ]
    }
   ],
   "source": [
    "# all the frequencies (n_trials*n_frequencies)\n",
    "frequency_matrix = np.random.randint(low=5,\n",
    "                                     high=30,\n",
    "                                     size=(3, 4)) \n",
    "\n",
    "# new frequencies to replace the target event (one frequency per trial)\n",
    "modulated_frequencies = np.random.randint(low=1,\n",
    "                                          high=3,\n",
    "                                          size=(3, 1)) \n",
    "# placeholders\n",
    "stim = []\n",
    "trial = []\n",
    "\n",
    "print(np.shape(frequency_matrix))\n",
    "print(np.shape(modulated_frequencies))"
   ]
  },
  {
   "cell_type": "code",
   "execution_count": 3,
   "metadata": {},
   "outputs": [],
   "source": [
    "for indx, frequencies in enumerate(frequency_matrix):\n",
    "    \n",
    "    make_one_event_off_params = {\"n_events\": int(len(frequencies)),\n",
    "                                 \"new_f\": int(modulated_frequencies[indx]),\n",
    "                                 \"is_retrograde\": True}\n",
    "    \n",
    "    #make the reference stimulus from each row of the frequency matrix\n",
    "    stim.append(make_sin_stimulus(frequencies=frequencies,\n",
    "                                  event_duration=500))\n",
    "    \n",
    "    #make one trial, i.e., the complete signal and the cue \n",
    "    trial.append(\n",
    "        make_stimuli_trial(stimulus=np.array(stim[indx]),\n",
    "                           silence_duration=1000,\n",
    "                           global_noise=.0,\n",
    "                           response_duration=500,\n",
    "                           transformation=make_one_event_off,\n",
    "                           cue_generator=make_cue_signal,\n",
    "                           transformation_params=make_one_event_off_params))"
   ]
  },
  {
   "cell_type": "code",
   "execution_count": 4,
   "metadata": {},
   "outputs": [
    {
     "data": {
      "image/png": "[encoded data removed]",
      "text/plain": [
       "<Figure size 432x288 with 1 Axes>"
      ]
     },
     "metadata": {
      "needs_background": "light"
     },
     "output_type": "display_data"
    }
   ],
   "source": [
    "plt.plot(trial[0][0],linewidth=0.7);\n",
    "plt.plot(trial[0][1],linewidth=4);\n",
    "plt.show()\n"
   ]
  },
  {
   "cell_type": "code",
   "execution_count": null,
   "metadata": {},
   "outputs": [],
   "source": []
  }
 ],
 "metadata": {
  "interpreter": {
   "hash": "0c077fea7c4b8c7451ed1ef47dd2169adbea99f955af722bfdbbc1acc5bc0861"
  },
  "kernelspec": {
   "display_name": "Python 3 (ipykernel)",
   "language": "python",
   "name": "python3"
  },
  "language_info": {
   "codemirror_mode": {
    "name": "ipython",
    "version": 3
   },
   "file_extension": ".py",
   "mimetype": "text/x-python",
   "name": "python",
   "nbconvert_exporter": "python",
   "pygments_lexer": "ipython3",
   "version": "3.8.10"
  }
 },
 "nbformat": 4,
 "nbformat_minor": 4
}
