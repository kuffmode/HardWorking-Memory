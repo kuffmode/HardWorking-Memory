{
 "cells": [
  {
   "cell_type": "markdown",
   "metadata": {},
   "source": [
    "# Examples:"
   ]
  },
  {
   "cell_type": "code",
   "execution_count": 1,
   "metadata": {},
   "outputs": [],
   "source": [
    "%load_ext autoreload"
   ]
  },
  {
   "cell_type": "code",
   "execution_count": 2,
   "metadata": {},
   "outputs": [],
   "source": [
    "%autoreload 2"
   ]
  },
  {
   "cell_type": "code",
   "execution_count": 3,
   "metadata": {
    "pycharm": {
     "name": "#%% imports\n"
    }
   },
   "outputs": [],
   "source": [
    "# imports n stuff\n",
    "import seaborn as sns\n",
    "%matplotlib inline\n",
    "from hardworking_memory import *\n",
    "from utils import *\n",
    "stylize()"
   ]
  },
  {
   "cell_type": "markdown",
   "metadata": {
    "pycharm": {
     "name": "#%%\n"
    }
   },
   "source": [
    "### Specifying the common parameters (between match and nomatch conditions)"
   ]
  },
  {
   "cell_type": "code",
   "execution_count": 4,
   "metadata": {
    "pycharm": {
     "name": "#%% specifying the parameters\n"
    }
   },
   "outputs": [],
   "source": [
    "frange = (1, 10, 2) # range of frequencies to be used (min, max, step)\n",
    "n_events = 2        # number of events per stimulus\n",
    "t_events = 100      # duration of each event, so each duration of stimulus = t_events*n_events\n",
    "t_response = 100    # duration of response\n",
    "t_delay = 200       # duration of delay between source stimulus and target stimulus\n",
    "y_labels = [\"Signal\",\n",
    "            \"Cue\",\n",
    "            \"Correct response\",\n",
    "            \"Condition's cue\"]\n",
    "\n",
    "# parameters for the event generator.\n",
    "func_kw = {\"event_duration\": t_events}\n",
    "transformation_kw = {\"frequency_range\":frange}\n",
    "\n",
    "# parameters for the stimulus generator. \n",
    "#    it'll be qualitatively same for both here. \n",
    "#    you can use different functions for source and target generator,\n",
    "#    I don't know yet why you might want to though.\n",
    "source_generator_kw = {\"function\": make_step,\n",
    "                       \"function_kw\": {\"event_duration\": t_events},\n",
    "                       \"frequencies\":None}\n",
    "target_generator_kw = source_generator_kw.copy()\n",
    "\n",
    "# parameters for the trial generator\n",
    "trial_kw = {\"source_generator\":make_stimulus,\n",
    "            \"source_generator_kw\":source_generator_kw,\n",
    "            \"target_generator\":make_stimulus,\n",
    "            \"target_generator_kw\":target_generator_kw,\n",
    "            \"t_response\":t_response,\n",
    "            \"t_silence\":t_delay,\n",
    "            \"global_noise\":.0}\n"
   ]
  },
  {
   "cell_type": "markdown",
   "metadata": {},
   "source": [
    "## Producing a block of working memory task using the interface function. \n",
    "This calls other functions automatically and generates one block of trials given the parameters. Should be easier to use if you don't want the middle-steps (like the template).\n",
    "\n",
    "What comes out of the next cell is a block of working memory task (not yet ready to be fed into a model, we'll get there in the end). So the match condition (not produced here) should be just the target signal being source but reversed in time (A,B,C --- C,B,A). No match condition is, well, the same but one event in the target is off (A,B,C --- C,D,A).\n",
    "\n",
    "There will be 4 rows:\n",
    "\n",
    "\n",
    "    1. the signal itself\n",
    "    2. cue signal\n",
    "    3. the correct response (match = 1, nomatch = -1)\n",
    "    4. condition cue (recall = -1, wm = 1) \n"
   ]
  },
  {
   "cell_type": "code",
   "execution_count": 5,
   "metadata": {},
   "outputs": [
    {
     "name": "stdout",
     "output_type": "stream",
     "text": [
      "(4, 100, 700)\n"
     ]
    }
   ],
   "source": [
    "# duration of each event is 100 so max frequency is 10, to be safe. (see make_sin's documentation)\n",
    "block = hwm_interface(n_events = n_events,\n",
    "                      frequency_range = frange,\n",
    "                      event_function = make_sin,\n",
    "                      transformation = scale_one_off,\n",
    "                      n_trials = 100,\n",
    "                      t_silence = t_delay,\n",
    "                      t_response = t_response,\n",
    "                      global_noise = 0.05,\n",
    "                      is_retrograde = True,\n",
    "                      is_wm = True,\n",
    "                      is_match = False,\n",
    "                      is_3d = True,\n",
    "                      transformation_kw = transformation_kw,\n",
    "                      function_kw = func_kw,\n",
    "                      random_seed = 11)\n",
    "print(block.shape)"
   ]
  },
  {
   "cell_type": "code",
   "execution_count": 6,
   "metadata": {},
   "outputs": [
    {
     "data": {
      "text/plain": [
       "<AxesSubplot:>"
      ]
     },
     "execution_count": 6,
     "metadata": {},
     "output_type": "execute_result"
    },
    {
     "data": {
      "image/png": "[encoded data removed]",
      "text/plain": [
       "<Figure size 576x288 with 2 Axes>"
      ]
     },
     "metadata": {
      "needs_background": "light"
     },
     "output_type": "display_data"
    }
   ],
   "source": [
    "plt.figure(figsize=(8,4))\n",
    "sns.heatmap(data = block[:,-1,:],\n",
    "            center = 0,\n",
    "            xticklabels=100,\n",
    "            yticklabels=y_labels,\n",
    "            cmap='RdBu_r')"
   ]
  },
  {
   "cell_type": "markdown",
   "metadata": {},
   "source": [
    "## Producing blocks semi-manually\n"
   ]
  },
  {
   "cell_type": "markdown",
   "metadata": {},
   "source": [
    "### 1.Specifying condition specific parameters\n",
    "The transformation here is also scale_one_off that randomly changes the frequency of one event in the target signal. The new frequency is from the same frequency range. But here retrograde is False, which means the temporal order of target signal follows the source so a match condition is, for example, (A,B,C --- A,B,C) and a no match condition is (A,B,C --- A,B,D).\n",
    "\n",
    "Since we have the frequency matrix, we can plot them using the simplified_plotter."
   ]
  },
  {
   "cell_type": "code",
   "execution_count": 7,
   "metadata": {},
   "outputs": [
    {
     "data": {
      "image/png": "[encoded data removed]",
      "text/plain": [
       "<Figure size 360x288 with 2 Axes>"
      ]
     },
     "metadata": {
      "needs_background": "light"
     },
     "output_type": "display_data"
    },
    {
     "data": {
      "image/png": "[encoded data removed]",
      "text/plain": [
       "<Figure size 360x288 with 2 Axes>"
      ]
     },
     "metadata": {
      "needs_background": "light"
     },
     "output_type": "display_data"
    }
   ],
   "source": [
    "fix_random_seed(11)\n",
    "match_frequencies = template_generator(n_trials = 60,\n",
    "                                       n_events=3,\n",
    "                                       transformation = None,\n",
    "                                       frequency_range=frange,\n",
    "                                       retrograde = False)\n",
    "\n",
    "nomatch_frequencies = template_generator(n_trials = 40,\n",
    "                                         n_events=3,\n",
    "                                         transformation = scale_one_off,\n",
    "                                         frequency_range = frange,\n",
    "                                         transformation_kw= {\"frequency_range\":frange},\n",
    "                                         retrograde = False)\n",
    "\n",
    "match_fig = simplified_trial_plotter(match_frequencies[0],\n",
    "                               t_delay=t_delay,\n",
    "                               t_response=t_response,\n",
    "                               t_events=t_events,\n",
    "                               is_match=True,\n",
    "                               figsize=(5,4))\n",
    "\n",
    "nomatch_fig = simplified_trial_plotter(nomatch_frequencies[0],\n",
    "                               t_delay=t_delay,\n",
    "                               t_response=t_response,\n",
    "                               t_events=t_events,\n",
    "                               is_match=False,\n",
    "                               figsize=(5,4))"
   ]
  },
  {
   "cell_type": "markdown",
   "metadata": {},
   "source": [
    "### 2.Generating match conditions from the match template"
   ]
  },
  {
   "cell_type": "code",
   "execution_count": 8,
   "metadata": {
    "pycharm": {
     "name": "#%% Generating 60 trials of match condition\n"
    }
   },
   "outputs": [
    {
     "name": "stdout",
     "output_type": "stream",
     "text": [
      "(4, 60, 900)\n"
     ]
    }
   ],
   "source": [
    "match_block = experiment_generator(frequency_mat = match_frequencies,\n",
    "                                   trial_generator = trial_generator,\n",
    "                                   trial_generator_kw = trial_kw,\n",
    "                                   is_wm=False,\n",
    "                                   is_match=True,\n",
    "                                   is_3d=True)\n",
    "\n",
    "#the template is not bounded between 0 and 1 so... (the interface takes care of this automatically)\n",
    "if source_generator_kw[\"function\"] is make_step:\n",
    "    match_block = normalize_step_signal(match_block,frange[1]) \n",
    "\n",
    "print(match_block.shape)"
   ]
  },
  {
   "cell_type": "code",
   "execution_count": 9,
   "metadata": {},
   "outputs": [
    {
     "data": {
      "text/plain": [
       "<AxesSubplot:>"
      ]
     },
     "execution_count": 9,
     "metadata": {},
     "output_type": "execute_result"
    },
    {
     "data": {
      "image/png": "[encoded data removed]",
      "text/plain": [
       "<Figure size 576x288 with 2 Axes>"
      ]
     },
     "metadata": {
      "needs_background": "light"
     },
     "output_type": "display_data"
    }
   ],
   "source": [
    "plt.figure(figsize=(8,4))\n",
    "sns.heatmap(data = match_block[:,-1,:],\n",
    "            center = 0,\n",
    "            xticklabels=100,\n",
    "            yticklabels=y_labels,\n",
    "            cmap='RdBu_r')"
   ]
  },
  {
   "cell_type": "markdown",
   "metadata": {},
   "source": [
    "### 3.Generate no match conditions"
   ]
  },
  {
   "cell_type": "code",
   "execution_count": 10,
   "metadata": {
    "pycharm": {
     "name": "#%% Generating 40 trials of nomatch condition\n"
    }
   },
   "outputs": [
    {
     "name": "stdout",
     "output_type": "stream",
     "text": [
      "(4, 40, 900)\n"
     ]
    },
    {
     "data": {
      "text/plain": [
       "<AxesSubplot:>"
      ]
     },
     "execution_count": 10,
     "metadata": {},
     "output_type": "execute_result"
    },
    {
     "data": {
      "image/png": "[encoded data removed]",
      "text/plain": [
       "<Figure size 576x288 with 2 Axes>"
      ]
     },
     "metadata": {
      "needs_background": "light"
     },
     "output_type": "display_data"
    }
   ],
   "source": [
    "nomatch_block = experiment_generator(frequency_mat = nomatch_frequencies,\n",
    "                                     trial_generator = trial_generator,\n",
    "                                     trial_generator_kw = trial_kw,\n",
    "                                     is_wm=False,\n",
    "                                     is_match=False,\n",
    "                                     is_3d=True)\n",
    "\n",
    "if source_generator_kw[\"function\"] is make_step:\n",
    "    nomatch_block = normalize_step_signal(nomatch_block,frange[1])\n",
    "\n",
    "print(nomatch_block.shape)\n",
    "plt.figure(figsize=(8,4))\n",
    "sns.heatmap(data = nomatch_block[:,-1,:],\n",
    "            center = 0,\n",
    "            xticklabels=100,\n",
    "            yticklabels=y_labels,\n",
    "            cmap='RdBu_r')"
   ]
  },
  {
   "cell_type": "markdown",
   "metadata": {},
   "source": [
    "## Preparing the experiment\n",
    "After we produced the blocks, either by the interface or kinda manually, we should prepare it for the model. train_test_preprocessor uses scikit learn to do the split but it shuffles trials itself, kinda like shuffling a deck of cards."
   ]
  },
  {
   "cell_type": "code",
   "execution_count": 11,
   "metadata": {
    "pycharm": {
     "name": "#%%\n"
    }
   },
   "outputs": [
    {
     "data": {
      "image/png": "[encoded data removed]",
      "text/plain": [
       "<Figure size 576x288 with 2 Axes>"
      ]
     },
     "metadata": {
      "needs_background": "light"
     },
     "output_type": "display_data"
    }
   ],
   "source": [
    "fix_random_seed(11)\n",
    "sk_kw = {\"test_size\": .4, \"shuffle\":False}\n",
    "X_train, X_test, y_train, y_test = train_test_preprocessor(match_block = match_block,\n",
    "                                                          nomatch_block = nomatch_block,\n",
    "                                                          **sk_kw)\n",
    "\n",
    "plt.figure(figsize=(8,4))\n",
    "\n",
    "sns.heatmap(data = X_train[2600:5600].T,\n",
    "            xticklabels=200,\n",
    "            yticklabels=[\"Signal\", \"Cue\"],\n",
    "            cmap='RdBu_r')\n",
    "plt.xlabel = \"Time\""
   ]
  },
  {
   "cell_type": "code",
   "execution_count": 12,
   "metadata": {
    "pycharm": {
     "name": "#%%\n"
    }
   },
   "outputs": [
    {
     "data": {
      "image/png": "[encoded data removed]",
      "text/plain": [
       "<Figure size 576x288 with 1 Axes>"
      ]
     },
     "metadata": {
      "needs_background": "light"
     },
     "output_type": "display_data"
    }
   ],
   "source": [
    "plt.figure(figsize=(8,4))\n",
    "sns.lineplot(data = y_train[2600:5600],linewidth = 2, color = 'k')\n",
    "plt.xlabel = \"Time\""
   ]
  },
  {
   "cell_type": "code",
   "execution_count": 13,
   "metadata": {},
   "outputs": [
    {
     "name": "stdout",
     "output_type": "stream",
     "text": [
      "X_train: (54000, 2)\n",
      "X_test: (36000, 2)\n",
      "y_train: (54000,)\n",
      "y_test: (36000,)\n",
      "\n",
      "number of nomatch conditions in the training dataset: 25\n",
      "number of nomatch conditions in the test dataset: 15\n",
      "\n",
      "number of match conditions in the training dataset: 35\n",
      "number of match conditions in the test dataset: 25\n"
     ]
    }
   ],
   "source": [
    "print(f\"X_train: {X_train.shape}\\nX_test: {X_test.shape}\\ny_train: {y_train.shape}\\ny_test: {y_test.shape}\\n\")\n",
    "print(f\"number of nomatch conditions in the training dataset: {int(np.count_nonzero(y_train == -1)/t_response)}\")\n",
    "print(f\"number of nomatch conditions in the test dataset: {int(np.count_nonzero(y_test == -1)/t_response)}\\n\")\n",
    "print(f\"number of match conditions in the training dataset: {int(np.count_nonzero(y_train == 1)/t_response)}\")\n",
    "print(f\"number of match conditions in the test dataset: {int(np.count_nonzero(y_test == 1)/t_response)}\")"
   ]
  },
  {
   "cell_type": "code",
   "execution_count": null,
   "metadata": {},
   "outputs": [],
   "source": []
  }
 ],
 "metadata": {
  "kernelspec": {
   "display_name": "Python 3 (ipykernel)",
   "language": "python",
   "name": "python3"
  },
  "language_info": {
   "codemirror_mode": {
    "name": "ipython",
    "version": 3
   },
   "file_extension": ".py",
   "mimetype": "text/x-python",
   "name": "python",
   "nbconvert_exporter": "python",
   "pygments_lexer": "ipython3",
   "version": "3.8.10"
  }
 },
 "nbformat": 4,
 "nbformat_minor": 1
}
