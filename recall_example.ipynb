{
 "cells": [
  {
   "cell_type": "markdown",
   "metadata": {},
   "source": [
    "# Generating data for a simple recall task"
   ]
  },
  {
   "cell_type": "code",
   "execution_count": 1,
   "metadata": {
    "pycharm": {
     "name": "#%% imports\n"
    }
   },
   "outputs": [],
   "source": [
    "# imports n stuff\n",
    "import seaborn as sns\n",
    "%matplotlib inline\n",
    "from hardworking_memory import *\n",
    "from utils import *"
   ]
  },
  {
   "cell_type": "markdown",
   "metadata": {
    "pycharm": {
     "name": "#%%\n"
    }
   },
   "source": [
    "## Specifying the common parameters (between match and nomatch conditions)"
   ]
  },
  {
   "cell_type": "code",
   "execution_count": 2,
   "metadata": {
    "pycharm": {
     "name": "#%% specifying the parameters\n"
    }
   },
   "outputs": [],
   "source": [
    "frange = (1, 20, 2) # range of frequencies to be used (min, max, step)\n",
    "n_events = 3        # number of events per stimulus\n",
    "t_events = 100      # duration of each event, so each duration of stimulus = t_events*n_events\n",
    "t_response = 100    # duration of response\n",
    "t_delay = 200       # duration of delay between source stimulus and target stimulus\n",
    "y_labels = [\"Signal\",\"Cue\", \"Correct response\", \"Condition's cue\"]\n",
    "source_generator_kw = {\"function\": make_step, # easier to see compared to make_sin\n",
    "                       \"function_kw\": {\"event_duration\": t_events},\n",
    "                       \"frequencies\":None}\n",
    "target_generator_kw = source_generator_kw.copy()\n",
    "\n",
    "trial_kw = {\"source_generator\":make_stimulus,\n",
    "            \"source_generator_kw\":source_generator_kw,\n",
    "            \"target_generator\":make_stimulus,\n",
    "            \"target_generator_kw\":target_generator_kw,\n",
    "            \"t_response\":t_response,\n",
    "            \"t_silence\":t_delay,\n",
    "            \"global_noise\":.0}"
   ]
  },
  {
   "cell_type": "markdown",
   "metadata": {},
   "source": [
    "## Specifying condition specific parameters\n",
    "The transformation here is scale_one_off that randomly changes the frequency of one event in the target signal. The new frequency is from the same frequency range. retrograde is False, which means the temporal order of target signal follows the source (it's not reveresed in time).\n",
    "\n",
    "There will be 4 rows:\n",
    "\n",
    "\n",
    "    1. the signal itself\n",
    "    2. cue signal\n",
    "    3. the correct response (match = 1, nomatch = -1)\n",
    "    4. condition cue (recall = -1, wm = 1) "
   ]
  },
  {
   "cell_type": "code",
   "execution_count": 3,
   "metadata": {},
   "outputs": [
    {
     "data": {
      "image/png": "[encoded data removed]",
      "text/plain": [
       "<Figure size 288x216 with 2 Axes>"
      ]
     },
     "metadata": {
      "needs_background": "light"
     },
     "output_type": "display_data"
    },
    {
     "data": {
      "image/png": "[encoded data removed]",
      "text/plain": [
       "<Figure size 288x216 with 2 Axes>"
      ]
     },
     "metadata": {
      "needs_background": "light"
     },
     "output_type": "display_data"
    }
   ],
   "source": [
    "fix_random_seed(11)\n",
    "stylize()\n",
    "match_frequencies = template_generator(n_trials = 60,\n",
    "                                       transformation = None,\n",
    "                                       frequency_range=frange,\n",
    "                                       retrograde = False)\n",
    "\n",
    "nomatch_frequencies = template_generator(n_trials = 40,\n",
    "                                         transformation = scale_one_off,\n",
    "                                         frequency_range = frange,\n",
    "                                         transformation_kw= {\"frequency_range\":frange},\n",
    "                                         retrograde = False)\n",
    "\n",
    "match_fig = simplified_trial_plotter(match_frequencies[0],\n",
    "                               t_delay=t_delay,\n",
    "                               t_response=t_response,\n",
    "                               t_events=t_events,\n",
    "                               is_match=True,\n",
    "                               figsize=(4,3))\n",
    "\n",
    "nomatch_fig = simplified_trial_plotter(nomatch_frequencies[0],\n",
    "                               t_delay=t_delay,\n",
    "                               t_response=t_response,\n",
    "                               t_events=t_events,\n",
    "                               is_match=False,\n",
    "                               figsize=(4,3))"
   ]
  },
  {
   "cell_type": "markdown",
   "metadata": {},
   "source": [
    "## Generating match conditions"
   ]
  },
  {
   "cell_type": "code",
   "execution_count": 4,
   "metadata": {
    "pycharm": {
     "name": "#%% Generating 60 trials of match condition\n"
    }
   },
   "outputs": [],
   "source": [
    "match_block = experiment_generator(frequency_mat = match_frequencies,\n",
    "                                   trial_generator = trial_generator,\n",
    "                                   trial_generator_kw = trial_kw,\n",
    "                                   is_wm=False,\n",
    "                                   is_match=True,\n",
    "                                   is_3d=True)\n",
    "\n",
    "if source_generator_kw[\"function\"] is make_step:\n",
    "    match_block = normalize_step_signal(match_block,frange[1])"
   ]
  },
  {
   "cell_type": "code",
   "execution_count": 5,
   "metadata": {},
   "outputs": [
    {
     "name": "stdout",
     "output_type": "stream",
     "text": [
      "(4, 60, 900)\n"
     ]
    },
    {
     "data": {
      "text/plain": [
       "<AxesSubplot:>"
      ]
     },
     "execution_count": 5,
     "metadata": {},
     "output_type": "execute_result"
    },
    {
     "data": {
      "image/png": "[encoded data removed]",
      "text/plain": [
       "<Figure size 576x288 with 2 Axes>"
      ]
     },
     "metadata": {
      "needs_background": "light"
     },
     "output_type": "display_data"
    }
   ],
   "source": [
    "print(match_block.shape)\n",
    "plt.figure(figsize=(8,4))\n",
    "sns.heatmap(data = match_block[:,-1,:],\n",
    "            center = 0,\n",
    "            xticklabels=100,\n",
    "            yticklabels=y_labels,\n",
    "            cmap='RdBu_r')"
   ]
  },
  {
   "cell_type": "markdown",
   "metadata": {},
   "source": [
    "## Generate no match conditions"
   ]
  },
  {
   "cell_type": "code",
   "execution_count": 6,
   "metadata": {
    "pycharm": {
     "name": "#%% Generating 40 trials of nomatch condition\n"
    }
   },
   "outputs": [
    {
     "name": "stdout",
     "output_type": "stream",
     "text": [
      "(4, 40, 900)\n"
     ]
    },
    {
     "data": {
      "text/plain": [
       "<AxesSubplot:>"
      ]
     },
     "execution_count": 6,
     "metadata": {},
     "output_type": "execute_result"
    },
    {
     "data": {
      "image/png": "[encoded data removed]",
      "text/plain": [
       "<Figure size 576x288 with 2 Axes>"
      ]
     },
     "metadata": {
      "needs_background": "light"
     },
     "output_type": "display_data"
    }
   ],
   "source": [
    "nomatch_block = experiment_generator(frequency_mat = nomatch_frequencies,\n",
    "                                     trial_generator = trial_generator,\n",
    "                                     trial_generator_kw = trial_kw,\n",
    "                                     is_wm=False,\n",
    "                                     is_match=False,\n",
    "                                     is_3d=True)\n",
    "\n",
    "if source_generator_kw[\"function\"] is make_step:\n",
    "    nomatch_block = normalize_step_signal(nomatch_block,frange[1])\n",
    "\n",
    "print(nomatch_block.shape)\n",
    "plt.figure(figsize=(8,4))\n",
    "sns.heatmap(data = nomatch_block[:,-1,:],\n",
    "            center = 0,\n",
    "            xticklabels=100,\n",
    "            yticklabels=y_labels,\n",
    "            cmap='RdBu_r')"
   ]
  },
  {
   "cell_type": "markdown",
   "metadata": {},
   "source": [
    "## Preparing the experiment"
   ]
  },
  {
   "cell_type": "code",
   "execution_count": 7,
   "metadata": {
    "pycharm": {
     "name": "#%%\n"
    }
   },
   "outputs": [
    {
     "data": {
      "text/plain": [
       "<AxesSubplot:>"
      ]
     },
     "execution_count": 7,
     "metadata": {},
     "output_type": "execute_result"
    },
    {
     "data": {
      "image/png": "[encoded data removed]",
      "text/plain": [
       "<Figure size 576x288 with 2 Axes>"
      ]
     },
     "metadata": {
      "needs_background": "light"
     },
     "output_type": "display_data"
    }
   ],
   "source": [
    "fix_random_seed(11)\n",
    "sk_kw = {\"test_size\": .4, \"shuffle\":False}\n",
    "X_train, X_test, y_train, y_test = train_test_preprocessor(match_block = match_block,\n",
    "                                                          nomatch_block = nomatch_block,\n",
    "                                                          **sk_kw)\n",
    "\n",
    "plt.figure(figsize=(8,4))\n",
    "\n",
    "sns.heatmap(data = X_train[2600:5600].T,\n",
    "            center = 0,\n",
    "            xticklabels=100,\n",
    "            yticklabels=[\"Signal\", \"Cue\"],\n",
    "            cmap='RdBu_r')"
   ]
  },
  {
   "cell_type": "code",
   "execution_count": 8,
   "metadata": {
    "pycharm": {
     "name": "#%%\n"
    }
   },
   "outputs": [
    {
     "data": {
      "text/plain": [
       "<AxesSubplot:>"
      ]
     },
     "execution_count": 8,
     "metadata": {},
     "output_type": "execute_result"
    },
    {
     "data": {
      "image/png": "[encoded data removed]",
      "text/plain": [
       "<Figure size 576x288 with 1 Axes>"
      ]
     },
     "metadata": {
      "needs_background": "light"
     },
     "output_type": "display_data"
    }
   ],
   "source": [
    "plt.figure(figsize=(8,4))\n",
    "# plt.plot(y_train[2600:5600], linewidth = 2, color = 'k')\n",
    "sns.lineplot(data = y_train[2600:5600],linewidth = 2, color = 'k')"
   ]
  },
  {
   "cell_type": "code",
   "execution_count": 9,
   "metadata": {},
   "outputs": [
    {
     "name": "stdout",
     "output_type": "stream",
     "text": [
      "X_train: (54000, 2)\n",
      "X_test: (36000, 2)\n",
      "y_train: (54000,)\n",
      "y_test: (36000,)\n",
      "\n",
      "number of nomatch conditions in the training dataset: 25\n",
      "number of nomatch conditions in the test dataset: 15\n",
      "\n",
      "number of match conditions in the training dataset: 35\n",
      "number of match conditions in the test dataset: 25\n"
     ]
    }
   ],
   "source": [
    "print(f\"X_train: {X_train.shape}\\nX_test: {X_test.shape}\\ny_train: {y_train.shape}\\ny_test: {y_test.shape}\\n\")\n",
    "print(f\"number of nomatch conditions in the training dataset: {int(np.count_nonzero(y_train == -1)/t_response)}\")\n",
    "print(f\"number of nomatch conditions in the test dataset: {int(np.count_nonzero(y_test == -1)/t_response)}\\n\")\n",
    "print(f\"number of match conditions in the training dataset: {int(np.count_nonzero(y_train == 1)/t_response)}\")\n",
    "print(f\"number of match conditions in the test dataset: {int(np.count_nonzero(y_test == 1)/t_response)}\")"
   ]
  },
  {
   "cell_type": "code",
   "execution_count": null,
   "metadata": {},
   "outputs": [],
   "source": []
  }
 ],
 "metadata": {
  "kernelspec": {
   "display_name": "Python 3 (ipykernel)",
   "language": "python",
   "name": "python3"
  },
  "language_info": {
   "codemirror_mode": {
    "name": "ipython",
    "version": 3
   },
   "file_extension": ".py",
   "mimetype": "text/x-python",
   "name": "python",
   "nbconvert_exporter": "python",
   "pygments_lexer": "ipython3",
   "version": "3.8.10"
  }
 },
 "nbformat": 4,
 "nbformat_minor": 1
}
