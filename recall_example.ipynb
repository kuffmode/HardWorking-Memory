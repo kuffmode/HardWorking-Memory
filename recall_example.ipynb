{
 "cells": [
  {
   "cell_type": "markdown",
   "metadata": {},
   "source": [
    "# Generating data for a simple recall task"
   ]
  },
  {
   "cell_type": "code",
   "execution_count": 1,
   "metadata": {
    "pycharm": {
     "name": "#%% imports\n"
    }
   },
   "outputs": [],
   "source": [
    "# imports n stuff\n",
    "import matplotlib.pyplot as plt\n",
    "%matplotlib inline\n",
    "from sklearn.model_selection import train_test_split\n",
    "from hardworking_memory import *"
   ]
  },
  {
   "cell_type": "markdown",
   "metadata": {
    "pycharm": {
     "name": "#%%\n"
    }
   },
   "source": [
    "## Specifying the common parameters (between match and nomatch conditions)"
   ]
  },
  {
   "cell_type": "code",
   "execution_count": 2,
   "metadata": {
    "pycharm": {
     "name": "#%% specifying the parameters\n"
    }
   },
   "outputs": [],
   "source": [
    "frange = (1, 20, 3) # range of frequencies to be used (min, max, step)\n",
    "n_events = 3        # number of events per stimulus\n",
    "t_events = 200      # duration of each event, so each duration of stimulus = t_events*n_events\n",
    "t_response = 200    # duration of response\n",
    "t_delay = 200       # duration of delay between source stimulus and target stimulus\n",
    "\n",
    "source_generator_kw = {\"event_duration\": t_events, \"frequencies\":None}\n",
    "target_generator_kw = source_generator_kw.copy()\n",
    "\n",
    "trial_kw = {\"source_generator\":make_sin_stimulus,\n",
    "            \"source_generator_kw\":source_generator_kw,\n",
    "            \"target_generator\":make_sin_stimulus,\n",
    "            \"target_generator_kw\":target_generator_kw,\n",
    "            \"t_response\":t_response,\n",
    "            \"t_silence\":t_delay,\n",
    "            \"global_noise\":0.0}"
   ]
  },
  {
   "cell_type": "markdown",
   "metadata": {},
   "source": [
    "## Specifying condition specific parameters\n",
    "The transformation here is scale_one_off that randomly changes the frequency of one event in the target signal. The new frequency is from the same frequency range. retrograde is False, which means the temporal order of target signal follows the source (it's not reveresed in time).\n",
    "\n",
    "There will be 4 rows:\n",
    "\n",
    "\n",
    "    1. the signal itself\n",
    "    2. cue signal\n",
    "    3. the correct response (match = 1, nomatch = -1)\n",
    "    4. condition cue (recall = -1, wm = 1) "
   ]
  },
  {
   "cell_type": "code",
   "execution_count": 3,
   "metadata": {},
   "outputs": [],
   "source": [
    "match_frequencies = template_generator(n_trials = 60,\n",
    "                                       transformation = None,\n",
    "                                       retrograde = False)\n",
    "\n",
    "nomatch_frequencies = template_generator(n_trials = 40,\n",
    "                                         transformation = scale_one_off,\n",
    "                                         transformation_kw= {\"frequency_range\":frange},\n",
    "                                         retrograde = False)"
   ]
  },
  {
   "cell_type": "markdown",
   "metadata": {},
   "source": [
    "## Generating match conditions"
   ]
  },
  {
   "cell_type": "code",
   "execution_count": 4,
   "metadata": {
    "pycharm": {
     "name": "#%% Generating 60 trials of match condition\n"
    }
   },
   "outputs": [
    {
     "name": "stdout",
     "output_type": "stream",
     "text": [
      "(4, 60, 1600)\n"
     ]
    },
    {
     "data": {
      "text/plain": [
       "<matplotlib.colorbar.Colorbar at 0x7fca411d69a0>"
      ]
     },
     "execution_count": 4,
     "metadata": {},
     "output_type": "execute_result"
    },
    {
     "data": {
      "image/png": "[encoded data removed]",
      "text/plain": [
       "<Figure size 576x288 with 2 Axes>"
      ]
     },
     "metadata": {
      "needs_background": "light"
     },
     "output_type": "display_data"
    }
   ],
   "source": [
    "match_block = experiment_generator(frequency_mat = match_frequencies,\n",
    "                                   trial_generator = trial_generator,\n",
    "                                   trial_generator_kw = trial_kw,\n",
    "                                   is_wm=False,\n",
    "                                   is_match=True,\n",
    "                                   is_3d=True)\n",
    "print(match_block.shape)\n",
    "plt.figure(figsize=(8,4))\n",
    "plt.imshow(match_block[:,0,:],aspect = 'auto', interpolation='none',cmap='RdBu_r')\n",
    "plt.colorbar()"
   ]
  },
  {
   "cell_type": "markdown",
   "metadata": {},
   "source": [
    "## Generate no match conditions"
   ]
  },
  {
   "cell_type": "code",
   "execution_count": 5,
   "metadata": {
    "pycharm": {
     "name": "#%% Generating 40 trials of nomatch condition\n"
    }
   },
   "outputs": [
    {
     "name": "stdout",
     "output_type": "stream",
     "text": [
      "(4, 40, 1600)\n"
     ]
    },
    {
     "data": {
      "text/plain": [
       "<matplotlib.colorbar.Colorbar at 0x7fca410c0e50>"
      ]
     },
     "execution_count": 5,
     "metadata": {},
     "output_type": "execute_result"
    },
    {
     "data": {
      "image/png": "[encoded data removed]",
      "text/plain": [
       "<Figure size 576x288 with 2 Axes>"
      ]
     },
     "metadata": {
      "needs_background": "light"
     },
     "output_type": "display_data"
    }
   ],
   "source": [
    "nomatch_block = experiment_generator(frequency_mat = nomatch_frequencies,\n",
    "                                     trial_generator = trial_generator,\n",
    "                                     trial_generator_kw = trial_kw,\n",
    "                                     is_wm=False,\n",
    "                                     is_match=False,\n",
    "                                     is_3d=True)\n",
    "print(nomatch_block.shape)\n",
    "plt.figure(figsize=(8,4))\n",
    "plt.imshow(nomatch_block[:,0,:],aspect = 'auto', interpolation='none',cmap='RdBu_r')\n",
    "plt.colorbar()"
   ]
  },
  {
   "cell_type": "markdown",
   "metadata": {},
   "source": [
    "## Preparing the experiment"
   ]
  },
  {
   "cell_type": "code",
   "execution_count": 6,
   "metadata": {
    "pycharm": {
     "name": "#%%\n"
    }
   },
   "outputs": [
    {
     "name": "stdout",
     "output_type": "stream",
     "text": [
      "(4, 160000)\n"
     ]
    },
    {
     "data": {
      "text/plain": [
       "<matplotlib.colorbar.Colorbar at 0x7fca410068e0>"
      ]
     },
     "execution_count": 6,
     "metadata": {},
     "output_type": "execute_result"
    },
    {
     "data": {
      "image/png": "[encoded data removed]",
      "text/plain": [
       "<Figure size 576x288 with 2 Axes>"
      ]
     },
     "metadata": {
      "needs_background": "light"
     },
     "output_type": "display_data"
    }
   ],
   "source": [
    "# sklearn does weird things with the signal during shuffling so...\n",
    "experiment = np.concatenate((match_block,nomatch_block),axis=1)\n",
    "experiment = np.transpose(experiment,axes=(1,0,2))\n",
    "np.random.shuffle(experiment) \n",
    "\n",
    "# stacking trials at the end of each other (3D to 2D) \n",
    "experiment = np.hstack(experiment) \n",
    "print(experiment.shape)\n",
    "\n",
    "plt.figure(figsize=(8,4))\n",
    "plt.imshow(experiment,aspect = 'auto', interpolation='none',cmap='RdBu_r')\n",
    "plt.colorbar()"
   ]
  },
  {
   "cell_type": "code",
   "execution_count": 9,
   "metadata": {
    "pycharm": {
     "name": "#%%\n"
    }
   },
   "outputs": [
    {
     "data": {
      "text/plain": [
       "<matplotlib.colorbar.Colorbar at 0x7fca40e024c0>"
      ]
     },
     "execution_count": 9,
     "metadata": {},
     "output_type": "execute_result"
    },
    {
     "data": {
      "image/png": "[encoded data removed]",
      "text/plain": [
       "<Figure size 576x288 with 2 Axes>"
      ]
     },
     "metadata": {
      "needs_background": "light"
     },
     "output_type": "display_data"
    }
   ],
   "source": [
    "X_train, X_test, y_train, y_test = train_test_split(experiment[:2,:].T,\n",
    "                                                    experiment[2,:].T,\n",
    "                                                    test_size=.4,\n",
    "                                                    shuffle=False)\n",
    "\n",
    "plt.figure(figsize=(8,4))\n",
    "plt.imshow(X_train[:4800].T,aspect = 'auto', interpolation='none',cmap='RdBu_r')\n",
    "plt.colorbar()"
   ]
  },
  {
   "cell_type": "code",
   "execution_count": 10,
   "metadata": {
    "pycharm": {
     "name": "#%%\n"
    }
   },
   "outputs": [
    {
     "data": {
      "text/plain": [
       "[<matplotlib.lines.Line2D at 0x7fca40d86f40>]"
      ]
     },
     "execution_count": 10,
     "metadata": {},
     "output_type": "execute_result"
    },
    {
     "data": {
      "image/png": "[encoded data removed]",
      "text/plain": [
       "<Figure size 432x288 with 1 Axes>"
      ]
     },
     "metadata": {
      "needs_background": "light"
     },
     "output_type": "display_data"
    }
   ],
   "source": [
    "plt.plot(y_train[:4800])"
   ]
  },
  {
   "cell_type": "code",
   "execution_count": 17,
   "metadata": {
    "pycharm": {
     "name": "#%%\n"
    }
   },
   "outputs": [
    {
     "name": "stdout",
     "output_type": "stream",
     "text": [
      "X_train: (96000, 2)\n",
      "X_test: (64000, 2)\n",
      "y_train: (96000,)\n",
      "y_test: (64000,)\n"
     ]
    }
   ],
   "source": [
    "print(f\"X_train: {X_train.shape}\\nX_test: {X_test.shape}\\ny_train: {y_train.shape}\\ny_test: {y_test.shape}\")\n"
   ]
  }
 ],
 "metadata": {
  "kernelspec": {
   "display_name": "Python 3 (ipykernel)",
   "language": "python",
   "name": "python3"
  },
  "language_info": {
   "codemirror_mode": {
    "name": "ipython",
    "version": 3
   },
   "file_extension": ".py",
   "mimetype": "text/x-python",
   "name": "python",
   "nbconvert_exporter": "python",
   "pygments_lexer": "ipython3",
   "version": "3.8.10"
  }
 },
 "nbformat": 4,
 "nbformat_minor": 1
}